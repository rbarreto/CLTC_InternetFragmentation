{
 "cells": [
  {
   "cell_type": "code",
   "execution_count": 1,
   "metadata": {},
   "outputs": [],
   "source": [
    "import time\n",
    "from selenium import webdriver\n",
    "from selenium.webdriver.common.by import By\n",
    "from selenium.webdriver.support.ui import WebDriverWait\n",
    "from selenium.webdriver.support import expected_conditions as EC\n",
    "from selenium.common.exceptions import TimeoutException\n",
    "from selenium.common.exceptions import NoSuchElementException\n",
    "from selenium.webdriver.common.keys import Keys\n",
    "from bs4 import BeautifulSoup\n",
    "import pandas as pd\n",
    "from dplython import (DplyFrame, X, diamonds, select, sift, sample_n,\n",
    "    sample_frac, head, arrange, mutate, group_by, summarize, DelayFunction)"
   ]
  },
  {
   "cell_type": "code",
   "execution_count": 2,
   "metadata": {},
   "outputs": [],
   "source": [
    "def init_driver(filepath):\n",
    "    driver = webdriver.Chrome(executable_path = filepath)\n",
    "    driver.wait = WebDriverWait(driver, 10)\n",
    "    return(driver)\n",
    "\n",
    "def navigate_to_website(driver, site):\n",
    "    driver.get(site)\n",
    "\n",
    "def get_html(driver):\n",
    "    output = []\n",
    "    output.append(driver.page_source)\n",
    "    return(output)"
   ]
  },
  {
   "cell_type": "code",
   "execution_count": null,
   "metadata": {},
   "outputs": [],
   "source": [
    "# Initialize the webdriver.\n",
    "driver = webdriver.Chrome('C:/Program Files/chromedriver/chromedriver.exe')"
   ]
  },
  {
   "cell_type": "code",
   "execution_count": null,
   "metadata": {},
   "outputs": [],
   "source": [
    "# Navigate to tess website\n",
    "navigate_to_website(driver, \"https://www.uspto.gov/trademark\")"
   ]
  },
  {
   "cell_type": "code",
   "execution_count": null,
   "metadata": {},
   "outputs": [],
   "source": [
    "# Navigate to search menu\n",
    "\n",
    "search_tess_button = driver.find_element_by_xpath(\"//*[@id='block-uspto-theme-system-main']/article/div/div[1]/div/div[2]/div[1]/article/div/div[2]/div/a\")\n",
    "search_tess_button.click()\n",
    "basic_word_mark_search_button = driver.find_element_by_xpath(\"/html/body/center/table[1]/tbody/tr[2]/td/font/font/a\")\n",
    "basic_word_mark_search_button.click()"
   ]
  },
  {
   "cell_type": "code",
   "execution_count": null,
   "metadata": {},
   "outputs": [],
   "source": [
    "# Trademark search\n",
    "\n",
    "time.sleep(5)\n",
    "searchBar = driver.find_element_by_xpath(\"//*[@id='querytext']/input\")\n",
    "search_term = \"Women For Women\"\n",
    "searchBar.send_keys(\"Women For Women\")\n",
    "searchBar.send_keys(Keys.RETURN)"
   ]
  },
  {
   "cell_type": "code",
   "execution_count": null,
   "metadata": {},
   "outputs": [],
   "source": [
    "soup = BeautifulSoup(driver.page_source, \"lxml\")"
   ]
  },
  {
   "cell_type": "code",
   "execution_count": null,
   "metadata": {},
   "outputs": [],
   "source": [
    "print(soup.prettify())"
   ]
  },
  {
   "cell_type": "code",
   "execution_count": null,
   "metadata": {},
   "outputs": [],
   "source": [
    "tm_table = soup.find_all('table')\n",
    "tm_table = tm_table[6]\n",
    "links = tm_table.find_all('a')\n",
    "links"
   ]
  },
  {
   "cell_type": "code",
   "execution_count": null,
   "metadata": {},
   "outputs": [],
   "source": [
    "marks = []\n",
    "for link in links:\n",
    "    marks.append(link.text)"
   ]
  },
  {
   "cell_type": "code",
   "execution_count": null,
   "metadata": {},
   "outputs": [],
   "source": [
    "import pandas as pd\n",
    "marks_df = pd.DataFrame()\n",
    "marks_df['marks'] = marks"
   ]
  },
  {
   "cell_type": "code",
   "execution_count": null,
   "metadata": {},
   "outputs": [],
   "source": [
    "marks_df"
   ]
  },
  {
   "cell_type": "code",
   "execution_count": null,
   "metadata": {},
   "outputs": [],
   "source": [
    "from dplython import (DplyFrame, X, diamonds, select, sift, sample_n,\n",
    "    sample_frac, head, arrange, mutate, group_by, summarize, DelayFunction)"
   ]
  },
  {
   "cell_type": "code",
   "execution_count": null,
   "metadata": {},
   "outputs": [],
   "source": [
    "marks_dply_df = DplyFrame(marks_df)\n",
    "marks_dply_df = marks_dply_df >> sift(X.marks != \"TSDR\", X.marks != \"LIVE\", X.marks != \" \") \n",
    "marks_df = pd.DataFrame(marks_dply_df)"
   ]
  },
  {
   "cell_type": "code",
   "execution_count": null,
   "metadata": {},
   "outputs": [],
   "source": [
    "#marks_df = marks_df[:-1]"
   ]
  },
  {
   "cell_type": "code",
   "execution_count": null,
   "metadata": {},
   "outputs": [],
   "source": [
    "marks_df = pd.DataFrame({'serial_no':marks_df['marks'].iloc[::2].values, 'mark':marks_df['marks'].iloc[1::2].values})\n",
    "\n",
    "marks_df.head()"
   ]
  },
  {
   "cell_type": "code",
   "execution_count": 3,
   "metadata": {},
   "outputs": [],
   "source": [
    "conflicted_marks = pd.read_csv(\"../data/conflicted_terms.csv\")"
   ]
  },
  {
   "cell_type": "code",
   "execution_count": 4,
   "metadata": {},
   "outputs": [],
   "source": [
    "trademarks = conflicted_marks['trademark_verbal_element']"
   ]
  },
  {
   "cell_type": "code",
   "execution_count": 5,
   "metadata": {},
   "outputs": [
    {
     "data": {
      "text/plain": [
       "0                                 SERIES 1\n",
       "1           TH TREE HOUSE HOTEL RESIDENCES\n",
       "2           TH TREE HOUSE HOTEL RESIDENCES\n",
       "3                               SKINTOLOGY\n",
       "4            WOMEN FOR WOMEN INTERNATIONAL\n",
       "5                                  CLIP-IT\n",
       "6                              WET N STICK\n",
       "7                                 POWERTYE\n",
       "8                       SMART PAYMENT PLAN\n",
       "9                      FLY LUXURY FOR LESS\n",
       "10                            PARTY BOOTHS\n",
       "11                     THE ROOTS NATURELLE\n",
       "12                                    MERA\n",
       "13                            ENVISIONWARE\n",
       "14     FAIRFIELD INN &amp; SUITES MARRIOTT\n",
       "15                                  SALUTE\n",
       "16                                 RACEDAY\n",
       "17                                    LOFT\n",
       "18                         P&amp;O CRUISES\n",
       "19                                    K.P.\n",
       "20                            INDEPENDENCE\n",
       "21                                ZETASAFE\n",
       "22                                     JET\n",
       "23                                 REDCINE\n",
       "24                           COOLPOINT AHT\n",
       "25                              OMEGASMART\n",
       "26                                    SECC\n",
       "27                                  GENIUM\n",
       "28          COCOBABA BY EMMA HEMING WILLIS\n",
       "29                                 MURJANI\n",
       "                      ...                 \n",
       "98                                 FAIRWAY\n",
       "99                             THE DREAMER\n",
       "100                           PURE BIODERM\n",
       "101                                    OLA\n",
       "102                               TRI SEAL\n",
       "103                                   ROMP\n",
       "104                                 LEGGUP\n",
       "105                                 TERRAS\n",
       "106                        STARMED BILLING\n",
       "107                       THE FITTER WOMAN\n",
       "108                                DIGINEX\n",
       "109                                CHUWUJU\n",
       "110                               SMART PI\n",
       "111                              LIGHT YOU\n",
       "112              GREENLIGHT RE INNOVATIONS\n",
       "113                             PRIME SEED\n",
       "114                      COGNIZANT APPLENS\n",
       "115                        POPPIN' BOTTLES\n",
       "116                         METIS PARTNERS\n",
       "117                       NEW HEALTH CORP.\n",
       "118                       SOUTHERN COUTURE\n",
       "119                             DRINK WELL\n",
       "120                           MONEY LADDER\n",
       "121                       BICOASTAL WINERY\n",
       "122                                   VENN\n",
       "123                                 TIDBIT\n",
       "124                                BIDITUP\n",
       "125                          MOLLY MANNERS\n",
       "126           BETTER SLEEP THROUGH SCIENCE\n",
       "127                   CHANG'S ROAD WARRIOR\n",
       "Name: trademark_verbal_element, Length: 128, dtype: object"
      ]
     },
     "execution_count": 5,
     "metadata": {},
     "output_type": "execute_result"
    }
   ],
   "source": [
    "trademarks"
   ]
  },
  {
   "cell_type": "code",
   "execution_count": null,
   "metadata": {},
   "outputs": [
    {
     "name": "stderr",
     "output_type": "stream",
     "text": [
      "C:\\ProgramData\\Anaconda3\\lib\\site-packages\\bs4\\builder\\_lxml.py:175: ResourceWarning: unclosed <socket.socket fd=2012, family=AddressFamily.AF_INET, type=SocketKind.SOCK_STREAM, proto=0, laddr=('127.0.0.1', 57875), raddr=('127.0.0.1', 57865)>\n",
      "  for attr, value in list(attrs.items()):\n",
      "C:\\ProgramData\\Anaconda3\\lib\\site-packages\\bs4\\builder\\_lxml.py:151: ResourceWarning: unclosed <socket.socket fd=2088, family=AddressFamily.AF_INET, type=SocketKind.SOCK_STREAM, proto=0, laddr=('127.0.0.1', 57986), raddr=('127.0.0.1', 57975)>\n",
      "  attrs = dict(attrs)\n",
      "C:\\ProgramData\\Anaconda3\\lib\\site-packages\\bs4\\builder\\_lxml.py:151: ResourceWarning: unclosed <socket.socket fd=2096, family=AddressFamily.AF_INET, type=SocketKind.SOCK_STREAM, proto=0, laddr=('127.0.0.1', 58033), raddr=('127.0.0.1', 58023)>\n",
      "  attrs = dict(attrs)\n",
      "C:\\ProgramData\\Anaconda3\\lib\\site-packages\\bs4\\builder\\_lxml.py:151: ResourceWarning: unclosed <socket.socket fd=1496, family=AddressFamily.AF_INET, type=SocketKind.SOCK_STREAM, proto=0, laddr=('127.0.0.1', 58080), raddr=('127.0.0.1', 58068)>\n",
      "  attrs = dict(attrs)\n"
     ]
    }
   ],
   "source": [
    "full_df = pd.DataFrame()\n",
    "\n",
    "for trademark in trademarks:\n",
    "    try:\n",
    "        # Initialize the webdriver.\n",
    "        driver = webdriver.Chrome('C:/Program Files/chromedriver/chromedriver.exe')\n",
    "        # Navigate to tess website\n",
    "        navigate_to_website(driver, \"https://www.uspto.gov/trademark\")\n",
    "\n",
    "        # Navigate to search menu\n",
    "\n",
    "        search_tess_button = driver.find_element_by_xpath(\"//*[@id='block-uspto-theme-system-main']/article/div/div[1]/div/div[2]/div[1]/article/div/div[2]/div/a\")\n",
    "        search_tess_button.click()\n",
    "        basic_word_mark_search_button = driver.find_element_by_xpath(\"/html/body/center/table[1]/tbody/tr[2]/td/font/font/a\")\n",
    "        basic_word_mark_search_button.click()\n",
    "\n",
    "        # Trademark search\n",
    "\n",
    "        time.sleep(5)\n",
    "        searchBar = driver.find_element_by_xpath(\"//*[@id='querytext']/input\")\n",
    "        searchBar.send_keys(trademark)\n",
    "        searchBar.send_keys(Keys.RETURN)\n",
    "\n",
    "        # soupify\n",
    "        soup = BeautifulSoup(driver.page_source, \"lxml\")\n",
    "        \n",
    "        driver.close()\n",
    "\n",
    "        tm_table = soup.find_all('table')\n",
    "        tm_table = tm_table[6]\n",
    "        links = tm_table.find_all('a')\n",
    "\n",
    "        marks = []\n",
    "        for link in links:\n",
    "            marks.append(link.text)\n",
    "\n",
    "        marks_df = pd.DataFrame()\n",
    "        marks_df['marks'] = marks\n",
    "\n",
    "        marks_dply_df = DplyFrame(marks_df)\n",
    "        marks_dply_df = marks_dply_df >> sift(X.marks != \"TSDR\", X.marks != \"LIVE\", X.marks != \"DEAD\", X.marks != \" \") \n",
    "        marks_df = pd.DataFrame(marks_dply_df)\n",
    "        marks_df['conflicted_mark'] = trademark\n",
    "        full_df = full_df.append(marks_df)\n",
    "    except:\n",
    "        pass"
   ]
  },
  {
   "cell_type": "code",
   "execution_count": null,
   "metadata": {},
   "outputs": [],
   "source": [
    "full_df"
   ]
  },
  {
   "cell_type": "code",
   "execution_count": null,
   "metadata": {},
   "outputs": [],
   "source": [
    "full_df.to_csv(\"../data/tess_marks_search.csv\")"
   ]
  },
  {
   "cell_type": "code",
   "execution_count": null,
   "metadata": {},
   "outputs": [],
   "source": [
    "full_df['marks'] = full_df['marks'].map(lambda x: ''.join([i for i in x if not i.isdigit()]))"
   ]
  },
  {
   "cell_type": "code",
   "execution_count": null,
   "metadata": {},
   "outputs": [],
   "source": [
    "full_df = DplyFrame(full_df)\n",
    "full_df = full_df >> sift(X.marks != \"\")\n",
    "full_df = pd.DataFrame(full_df)"
   ]
  },
  {
   "cell_type": "code",
   "execution_count": null,
   "metadata": {},
   "outputs": [],
   "source": [
    "full_df"
   ]
  },
  {
   "cell_type": "code",
   "execution_count": null,
   "metadata": {},
   "outputs": [],
   "source": [
    "full_df = full_df[~full_df.marks.str.contains(\"/ t d\")]"
   ]
  },
  {
   "cell_type": "code",
   "execution_count": null,
   "metadata": {},
   "outputs": [],
   "source": [
    "full_df[\"exact_match\"] = full_df['marks'].isin(full_df['conflicted_mark'])"
   ]
  },
  {
   "cell_type": "code",
   "execution_count": null,
   "metadata": {},
   "outputs": [],
   "source": [
    "from nltk.metrics import edit_distance    \n",
    "\n",
    "full_df[\"levenshtein_distance\"] = full_df.loc[:, ['marks', 'conflicted_mark']].apply(lambda x: edit_distance(*x), axis = 1)"
   ]
  },
  {
   "cell_type": "code",
   "execution_count": null,
   "metadata": {},
   "outputs": [],
   "source": [
    "full_df.to_csv(\"../data/tess_search_with_matches.csv\", encoding = \"utf-8\")"
   ]
  },
  {
   "cell_type": "code",
   "execution_count": null,
   "metadata": {},
   "outputs": [],
   "source": []
  },
  {
   "cell_type": "code",
   "execution_count": null,
   "metadata": {},
   "outputs": [],
   "source": []
  }
 ],
 "metadata": {
  "kernelspec": {
   "display_name": "Python 3",
   "language": "python",
   "name": "python3"
  },
  "language_info": {
   "codemirror_mode": {
    "name": "ipython",
    "version": 3
   },
   "file_extension": ".py",
   "mimetype": "text/x-python",
   "name": "python",
   "nbconvert_exporter": "python",
   "pygments_lexer": "ipython3",
   "version": "3.7.1"
  }
 },
 "nbformat": 4,
 "nbformat_minor": 2
}
